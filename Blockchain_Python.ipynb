{
 "cells": [
  {
   "cell_type": "code",
   "execution_count": 2,
   "id": "clean-playback",
   "metadata": {},
   "outputs": [
    {
     "name": "stdout",
     "output_type": "stream",
     "text": [
      "Collecting python-dotenv\n",
      "  Using cached python_dotenv-0.19.0-py2.py3-none-any.whl (17 kB)\n",
      "Installing collected packages: python-dotenv\n",
      "Successfully installed python-dotenv-0.19.0\n",
      "Note: you may need to restart the kernel to use updated packages.\n"
     ]
    }
   ],
   "source": [
    "pip install -U python-dotenv"
   ]
  },
  {
   "cell_type": "code",
   "execution_count": 11,
   "id": "critical-trustee",
   "metadata": {},
   "outputs": [
    {
     "name": "stdout",
     "output_type": "stream",
     "text": [
      "\u001b[31mERROR: Could not find a version that satisfies the requirement web3.py (from versions: none)\u001b[0m\n",
      "\u001b[31mERROR: No matching distribution found for web3.py\u001b[0m\n",
      "Note: you may need to restart the kernel to use updated packages.\n"
     ]
    }
   ],
   "source": [
    "pip install web3.py"
   ]
  },
  {
   "cell_type": "code",
   "execution_count": 12,
   "id": "naval-button",
   "metadata": {},
   "outputs": [
    {
     "name": "stdout",
     "output_type": "stream",
     "text": [
      "Collecting web3\n",
      "  Using cached web3-5.21.0-py3-none-any.whl (482 kB)\n",
      "Requirement already satisfied, skipping upgrade: hexbytes<1.0.0,>=0.1.0 in /Users/macbookmaladocs/opt/anaconda3/envs/dev/lib/python3.7/site-packages (from web3) (0.2.1)\n",
      "Requirement already satisfied, skipping upgrade: requests<3.0.0,>=2.16.0 in /Users/macbookmaladocs/opt/anaconda3/envs/dev/lib/python3.7/site-packages (from web3) (2.24.0)\n",
      "Requirement already satisfied, skipping upgrade: jsonschema<4.0.0,>=3.2.0 in /Users/macbookmaladocs/opt/anaconda3/envs/dev/lib/python3.7/site-packages (from web3) (3.2.0)\n",
      "Collecting lru-dict<2.0.0,>=1.1.6\n",
      "  Using cached lru-dict-1.1.7.tar.gz (10 kB)\n",
      "Requirement already satisfied, skipping upgrade: eth-typing<3.0.0,>=2.0.0 in /Users/macbookmaladocs/opt/anaconda3/envs/dev/lib/python3.7/site-packages (from web3) (2.2.2)\n",
      "Collecting protobuf<4,>=3.10.0\n",
      "  Using cached protobuf-3.17.3-cp37-cp37m-macosx_10_9_x86_64.whl (1.0 MB)\n",
      "Collecting eth-account<0.6.0,>=0.5.3\n",
      "  Using cached eth_account-0.5.5-py3-none-any.whl (100 kB)\n",
      "Requirement already satisfied, skipping upgrade: aiohttp<4,>=3.7.4.post0 in /Users/macbookmaladocs/opt/anaconda3/envs/dev/lib/python3.7/site-packages (from web3) (3.7.4.post0)\n",
      "Requirement already satisfied, skipping upgrade: eth-hash[pycryptodome]<1.0.0,>=0.2.0 in /Users/macbookmaladocs/opt/anaconda3/envs/dev/lib/python3.7/site-packages (from web3) (0.3.1)\n",
      "Requirement already satisfied, skipping upgrade: eth-abi<3.0.0,>=2.0.0b6 in /Users/macbookmaladocs/opt/anaconda3/envs/dev/lib/python3.7/site-packages (from web3) (2.1.1)\n",
      "Requirement already satisfied, skipping upgrade: ipfshttpclient==0.7.0 in /Users/macbookmaladocs/opt/anaconda3/envs/dev/lib/python3.7/site-packages (from web3) (0.7.0)\n",
      "Requirement already satisfied, skipping upgrade: eth-utils<2.0.0,>=1.9.5 in /Users/macbookmaladocs/opt/anaconda3/envs/dev/lib/python3.7/site-packages (from web3) (1.10.0)\n",
      "Requirement already satisfied, skipping upgrade: websockets<10,>=9.1 in /Users/macbookmaladocs/opt/anaconda3/envs/dev/lib/python3.7/site-packages (from web3) (9.1)\n",
      "Requirement already satisfied, skipping upgrade: typing-extensions<4,>=3.7.4.1; python_version < \"3.8\" in /Users/macbookmaladocs/opt/anaconda3/envs/dev/lib/python3.7/site-packages (from web3) (3.7.4.3)\n",
      "Requirement already satisfied, skipping upgrade: chardet<4,>=3.0.2 in /Users/macbookmaladocs/opt/anaconda3/envs/dev/lib/python3.7/site-packages (from requests<3.0.0,>=2.16.0->web3) (3.0.4)\n",
      "Requirement already satisfied, skipping upgrade: certifi>=2017.4.17 in /Users/macbookmaladocs/opt/anaconda3/envs/dev/lib/python3.7/site-packages (from requests<3.0.0,>=2.16.0->web3) (2020.6.20)\n",
      "Requirement already satisfied, skipping upgrade: idna<3,>=2.5 in /Users/macbookmaladocs/opt/anaconda3/envs/dev/lib/python3.7/site-packages (from requests<3.0.0,>=2.16.0->web3) (2.10)\n",
      "Requirement already satisfied, skipping upgrade: urllib3!=1.25.0,!=1.25.1,<1.26,>=1.21.1 in /Users/macbookmaladocs/opt/anaconda3/envs/dev/lib/python3.7/site-packages (from requests<3.0.0,>=2.16.0->web3) (1.25.11)\n",
      "Requirement already satisfied, skipping upgrade: attrs>=17.4.0 in /Users/macbookmaladocs/opt/anaconda3/envs/dev/lib/python3.7/site-packages (from jsonschema<4.0.0,>=3.2.0->web3) (20.3.0)\n",
      "Requirement already satisfied, skipping upgrade: setuptools in /Users/macbookmaladocs/opt/anaconda3/envs/dev/lib/python3.7/site-packages (from jsonschema<4.0.0,>=3.2.0->web3) (50.3.1.post20201107)\n",
      "Requirement already satisfied, skipping upgrade: pyrsistent>=0.14.0 in /Users/macbookmaladocs/opt/anaconda3/envs/dev/lib/python3.7/site-packages (from jsonschema<4.0.0,>=3.2.0->web3) (0.17.3)\n",
      "Requirement already satisfied, skipping upgrade: importlib-metadata; python_version < \"3.8\" in /Users/macbookmaladocs/opt/anaconda3/envs/dev/lib/python3.7/site-packages (from jsonschema<4.0.0,>=3.2.0->web3) (2.0.0)\n",
      "Requirement already satisfied, skipping upgrade: six>=1.11.0 in /Users/macbookmaladocs/opt/anaconda3/envs/dev/lib/python3.7/site-packages (from jsonschema<4.0.0,>=3.2.0->web3) (1.15.0)\n",
      "Collecting rlp<3,>=1.0.0\n",
      "  Using cached rlp-2.0.1-py2.py3-none-any.whl (20 kB)\n",
      "Requirement already satisfied, skipping upgrade: eth-keyfile<0.6.0,>=0.5.0 in /Users/macbookmaladocs/opt/anaconda3/envs/dev/lib/python3.7/site-packages (from eth-account<0.6.0,>=0.5.3->web3) (0.5.1)\n",
      "Requirement already satisfied, skipping upgrade: eth-keys!=0.3.2,<0.4.0,>=0.2.1 in /Users/macbookmaladocs/opt/anaconda3/envs/dev/lib/python3.7/site-packages (from eth-account<0.6.0,>=0.5.3->web3) (0.3.3)\n",
      "Collecting bitarray<1.3.0,>=1.2.1\n",
      "  Using cached bitarray-1.2.2.tar.gz (48 kB)\n",
      "Collecting eth-rlp<2,>=0.1.2\n",
      "  Using cached eth_rlp-0.2.1-py3-none-any.whl (5.0 kB)\n",
      "Requirement already satisfied, skipping upgrade: yarl<2.0,>=1.0 in /Users/macbookmaladocs/opt/anaconda3/envs/dev/lib/python3.7/site-packages (from aiohttp<4,>=3.7.4.post0->web3) (1.6.3)\n",
      "Requirement already satisfied, skipping upgrade: multidict<7.0,>=4.5 in /Users/macbookmaladocs/opt/anaconda3/envs/dev/lib/python3.7/site-packages (from aiohttp<4,>=3.7.4.post0->web3) (5.1.0)\n",
      "Requirement already satisfied, skipping upgrade: async-timeout<4.0,>=3.0 in /Users/macbookmaladocs/opt/anaconda3/envs/dev/lib/python3.7/site-packages (from aiohttp<4,>=3.7.4.post0->web3) (3.0.1)\n",
      "Requirement already satisfied, skipping upgrade: pycryptodome<4,>=3.6.6; extra == \"pycryptodome\" in /Users/macbookmaladocs/opt/anaconda3/envs/dev/lib/python3.7/site-packages (from eth-hash[pycryptodome]<1.0.0,>=0.2.0->web3) (3.10.1)\n",
      "Requirement already satisfied, skipping upgrade: parsimonious<0.9.0,>=0.8.0 in /Users/macbookmaladocs/opt/anaconda3/envs/dev/lib/python3.7/site-packages (from eth-abi<3.0.0,>=2.0.0b6->web3) (0.8.1)\n",
      "Requirement already satisfied, skipping upgrade: multiaddr>=0.0.7 in /Users/macbookmaladocs/opt/anaconda3/envs/dev/lib/python3.7/site-packages (from ipfshttpclient==0.7.0->web3) (0.0.9)\n",
      "Requirement already satisfied, skipping upgrade: cytoolz<1.0.0,>=0.10.1; implementation_name == \"cpython\" in /Users/macbookmaladocs/opt/anaconda3/envs/dev/lib/python3.7/site-packages (from eth-utils<2.0.0,>=1.9.5->web3) (0.11.0)\n",
      "Requirement already satisfied, skipping upgrade: zipp>=0.5 in /Users/macbookmaladocs/opt/anaconda3/envs/dev/lib/python3.7/site-packages (from importlib-metadata; python_version < \"3.8\"->jsonschema<4.0.0,>=3.2.0->web3) (3.4.0)\n",
      "Requirement already satisfied, skipping upgrade: varint in /Users/macbookmaladocs/opt/anaconda3/envs/dev/lib/python3.7/site-packages (from multiaddr>=0.0.7->ipfshttpclient==0.7.0->web3) (1.0.2)\n",
      "Requirement already satisfied, skipping upgrade: netaddr in /Users/macbookmaladocs/opt/anaconda3/envs/dev/lib/python3.7/site-packages (from multiaddr>=0.0.7->ipfshttpclient==0.7.0->web3) (0.8.0)\n",
      "Requirement already satisfied, skipping upgrade: base58 in /Users/macbookmaladocs/opt/anaconda3/envs/dev/lib/python3.7/site-packages (from multiaddr>=0.0.7->ipfshttpclient==0.7.0->web3) (2.1.0)\n",
      "Requirement already satisfied, skipping upgrade: toolz>=0.8.0 in /Users/macbookmaladocs/opt/anaconda3/envs/dev/lib/python3.7/site-packages (from cytoolz<1.0.0,>=0.10.1; implementation_name == \"cpython\"->eth-utils<2.0.0,>=1.9.5->web3) (0.11.1)\n",
      "Building wheels for collected packages: lru-dict, bitarray\n",
      "  Building wheel for lru-dict (setup.py) ... \u001b[?25lerror\n",
      "\u001b[31m  ERROR: Command errored out with exit status 1:\n",
      "   command: /Users/macbookmaladocs/opt/anaconda3/envs/dev/bin/python -u -c 'import sys, setuptools, tokenize; sys.argv[0] = '\"'\"'/private/var/folders/mp/dkfg6s7x0l133jhmn47k7cp80000gn/T/pip-install-dv_p5ec_/lru-dict/setup.py'\"'\"'; __file__='\"'\"'/private/var/folders/mp/dkfg6s7x0l133jhmn47k7cp80000gn/T/pip-install-dv_p5ec_/lru-dict/setup.py'\"'\"';f=getattr(tokenize, '\"'\"'open'\"'\"', open)(__file__);code=f.read().replace('\"'\"'\\r\\n'\"'\"', '\"'\"'\\n'\"'\"');f.close();exec(compile(code, __file__, '\"'\"'exec'\"'\"'))' bdist_wheel -d /private/var/folders/mp/dkfg6s7x0l133jhmn47k7cp80000gn/T/pip-wheel-d3_a4fsh\n",
      "       cwd: /private/var/folders/mp/dkfg6s7x0l133jhmn47k7cp80000gn/T/pip-install-dv_p5ec_/lru-dict/\n",
      "  Complete output (9 lines):\n",
      "  running bdist_wheel\n",
      "  running build\n",
      "  running build_ext\n",
      "  building 'lru' extension\n",
      "  creating build\n",
      "  creating build/temp.macosx-10.9-x86_64-3.7\n",
      "  gcc -Wno-unused-result -Wsign-compare -Wunreachable-code -DNDEBUG -g -fwrapv -O3 -Wall -Wstrict-prototypes -I/Users/macbookmaladocs/opt/anaconda3/envs/dev/include -arch x86_64 -I/Users/macbookmaladocs/opt/anaconda3/envs/dev/include -arch x86_64 -I/Users/macbookmaladocs/opt/anaconda3/envs/dev/include/python3.7m -c lru.c -o build/temp.macosx-10.9-x86_64-3.7/lru.o\n",
      "  xcrun: error: invalid active developer path (/Library/Developer/CommandLineTools), missing xcrun at: /Library/Developer/CommandLineTools/usr/bin/xcrun\n",
      "  error: command 'gcc' failed with exit status 1\n",
      "  ----------------------------------------\u001b[0m\n",
      "\u001b[31m  ERROR: Failed building wheel for lru-dict\u001b[0m\n",
      "\u001b[?25h  Running setup.py clean for lru-dict\n",
      "  Building wheel for bitarray (setup.py) ... \u001b[?25lerror\n",
      "\u001b[31m  ERROR: Command errored out with exit status 1:\n",
      "   command: /Users/macbookmaladocs/opt/anaconda3/envs/dev/bin/python -u -c 'import sys, setuptools, tokenize; sys.argv[0] = '\"'\"'/private/var/folders/mp/dkfg6s7x0l133jhmn47k7cp80000gn/T/pip-install-dv_p5ec_/bitarray/setup.py'\"'\"'; __file__='\"'\"'/private/var/folders/mp/dkfg6s7x0l133jhmn47k7cp80000gn/T/pip-install-dv_p5ec_/bitarray/setup.py'\"'\"';f=getattr(tokenize, '\"'\"'open'\"'\"', open)(__file__);code=f.read().replace('\"'\"'\\r\\n'\"'\"', '\"'\"'\\n'\"'\"');f.close();exec(compile(code, __file__, '\"'\"'exec'\"'\"'))' bdist_wheel -d /private/var/folders/mp/dkfg6s7x0l133jhmn47k7cp80000gn/T/pip-wheel-idu4_2ym\n",
      "       cwd: /private/var/folders/mp/dkfg6s7x0l133jhmn47k7cp80000gn/T/pip-install-dv_p5ec_/bitarray/\n",
      "  Complete output (17 lines):\n",
      "  running bdist_wheel\n",
      "  running build\n",
      "  running build_py\n",
      "  creating build\n",
      "  creating build/lib.macosx-10.9-x86_64-3.7\n",
      "  creating build/lib.macosx-10.9-x86_64-3.7/bitarray\n",
      "  copying bitarray/util.py -> build/lib.macosx-10.9-x86_64-3.7/bitarray\n",
      "  copying bitarray/__init__.py -> build/lib.macosx-10.9-x86_64-3.7/bitarray\n",
      "  copying bitarray/test_bitarray.py -> build/lib.macosx-10.9-x86_64-3.7/bitarray\n",
      "  copying bitarray/test_util.py -> build/lib.macosx-10.9-x86_64-3.7/bitarray\n",
      "  running build_ext\n",
      "  building 'bitarray._bitarray' extension\n",
      "  creating build/temp.macosx-10.9-x86_64-3.7\n",
      "  creating build/temp.macosx-10.9-x86_64-3.7/bitarray\n",
      "  gcc -Wno-unused-result -Wsign-compare -Wunreachable-code -DNDEBUG -g -fwrapv -O3 -Wall -Wstrict-prototypes -I/Users/macbookmaladocs/opt/anaconda3/envs/dev/include -arch x86_64 -I/Users/macbookmaladocs/opt/anaconda3/envs/dev/include -arch x86_64 -I/Users/macbookmaladocs/opt/anaconda3/envs/dev/include/python3.7m -c bitarray/_bitarray.c -o build/temp.macosx-10.9-x86_64-3.7/bitarray/_bitarray.o\n",
      "  xcrun: error: invalid active developer path (/Library/Developer/CommandLineTools), missing xcrun at: /Library/Developer/CommandLineTools/usr/bin/xcrun\n",
      "  error: command 'gcc' failed with exit status 1\n",
      "  ----------------------------------------\u001b[0m\n",
      "\u001b[31m  ERROR: Failed building wheel for bitarray\u001b[0m\n",
      "\u001b[?25h  Running setup.py clean for bitarray\n",
      "Failed to build lru-dict bitarray\n",
      "Installing collected packages: lru-dict, protobuf, rlp, bitarray, eth-rlp, eth-account, web3\n",
      "    Running setup.py install for lru-dict ... \u001b[?25lerror\n",
      "\u001b[31m    ERROR: Command errored out with exit status 1:\n",
      "     command: /Users/macbookmaladocs/opt/anaconda3/envs/dev/bin/python -u -c 'import sys, setuptools, tokenize; sys.argv[0] = '\"'\"'/private/var/folders/mp/dkfg6s7x0l133jhmn47k7cp80000gn/T/pip-install-dv_p5ec_/lru-dict/setup.py'\"'\"'; __file__='\"'\"'/private/var/folders/mp/dkfg6s7x0l133jhmn47k7cp80000gn/T/pip-install-dv_p5ec_/lru-dict/setup.py'\"'\"';f=getattr(tokenize, '\"'\"'open'\"'\"', open)(__file__);code=f.read().replace('\"'\"'\\r\\n'\"'\"', '\"'\"'\\n'\"'\"');f.close();exec(compile(code, __file__, '\"'\"'exec'\"'\"'))' install --record /private/var/folders/mp/dkfg6s7x0l133jhmn47k7cp80000gn/T/pip-record-d7vpq4o3/install-record.txt --single-version-externally-managed --compile --install-headers /Users/macbookmaladocs/opt/anaconda3/envs/dev/include/python3.7m/lru-dict\n",
      "         cwd: /private/var/folders/mp/dkfg6s7x0l133jhmn47k7cp80000gn/T/pip-install-dv_p5ec_/lru-dict/\n",
      "    Complete output (9 lines):\n",
      "    running install\n",
      "    running build\n",
      "    running build_ext\n",
      "    building 'lru' extension\n",
      "    creating build\n",
      "    creating build/temp.macosx-10.9-x86_64-3.7\n",
      "    gcc -Wno-unused-result -Wsign-compare -Wunreachable-code -DNDEBUG -g -fwrapv -O3 -Wall -Wstrict-prototypes -I/Users/macbookmaladocs/opt/anaconda3/envs/dev/include -arch x86_64 -I/Users/macbookmaladocs/opt/anaconda3/envs/dev/include -arch x86_64 -I/Users/macbookmaladocs/opt/anaconda3/envs/dev/include/python3.7m -c lru.c -o build/temp.macosx-10.9-x86_64-3.7/lru.o\n",
      "    xcrun: error: invalid active developer path (/Library/Developer/CommandLineTools), missing xcrun at: /Library/Developer/CommandLineTools/usr/bin/xcrun\n",
      "    error: command 'gcc' failed with exit status 1\n",
      "    ----------------------------------------\u001b[0m\n",
      "\u001b[31mERROR: Command errored out with exit status 1: /Users/macbookmaladocs/opt/anaconda3/envs/dev/bin/python -u -c 'import sys, setuptools, tokenize; sys.argv[0] = '\"'\"'/private/var/folders/mp/dkfg6s7x0l133jhmn47k7cp80000gn/T/pip-install-dv_p5ec_/lru-dict/setup.py'\"'\"'; __file__='\"'\"'/private/var/folders/mp/dkfg6s7x0l133jhmn47k7cp80000gn/T/pip-install-dv_p5ec_/lru-dict/setup.py'\"'\"';f=getattr(tokenize, '\"'\"'open'\"'\"', open)(__file__);code=f.read().replace('\"'\"'\\r\\n'\"'\"', '\"'\"'\\n'\"'\"');f.close();exec(compile(code, __file__, '\"'\"'exec'\"'\"'))' install --record /private/var/folders/mp/dkfg6s7x0l133jhmn47k7cp80000gn/T/pip-record-d7vpq4o3/install-record.txt --single-version-externally-managed --compile --install-headers /Users/macbookmaladocs/opt/anaconda3/envs/dev/include/python3.7m/lru-dict Check the logs for full command output.\u001b[0m\n",
      "\u001b[?25hNote: you may need to restart the kernel to use updated packages.\n"
     ]
    }
   ],
   "source": [
    "pip install --upgrade web3"
   ]
  },
  {
   "cell_type": "code",
   "execution_count": 13,
   "id": "serial-venue",
   "metadata": {},
   "outputs": [
    {
     "ename": "ModuleNotFoundError",
     "evalue": "No module named 'web3'",
     "output_type": "error",
     "traceback": [
      "\u001b[0;31m---------------------------------------------------------------------------\u001b[0m",
      "\u001b[0;31mModuleNotFoundError\u001b[0m                       Traceback (most recent call last)",
      "\u001b[0;32m<ipython-input-13-c6612fad93e2>\u001b[0m in \u001b[0;36m<module>\u001b[0;34m\u001b[0m\n\u001b[1;32m      2\u001b[0m \u001b[0;32mimport\u001b[0m \u001b[0mjson\u001b[0m\u001b[0;34m\u001b[0m\u001b[0;34m\u001b[0m\u001b[0m\n\u001b[1;32m      3\u001b[0m \u001b[0;32mfrom\u001b[0m \u001b[0mdotenv\u001b[0m \u001b[0;32mimport\u001b[0m \u001b[0mload_dotenv\u001b[0m\u001b[0;34m\u001b[0m\u001b[0;34m\u001b[0m\u001b[0m\n\u001b[0;32m----> 4\u001b[0;31m \u001b[0;32mfrom\u001b[0m \u001b[0mweb3\u001b[0m \u001b[0;32mimport\u001b[0m \u001b[0mweb3\u001b[0m\u001b[0;34m\u001b[0m\u001b[0;34m\u001b[0m\u001b[0m\n\u001b[0m\u001b[1;32m      5\u001b[0m \u001b[0;32mfrom\u001b[0m \u001b[0mbit\u001b[0m \u001b[0;32mimport\u001b[0m \u001b[0mPrivateKeyTestnet\u001b[0m\u001b[0;34m\u001b[0m\u001b[0;34m\u001b[0m\u001b[0m\n\u001b[1;32m      6\u001b[0m \u001b[0;32mfrom\u001b[0m \u001b[0mweb3\u001b[0m \u001b[0;32mimport\u001b[0m \u001b[0mmiddleware\u001b[0m\u001b[0;34m,\u001b[0m\u001b[0mAccount\u001b[0m\u001b[0;34m\u001b[0m\u001b[0;34m\u001b[0m\u001b[0m\n",
      "\u001b[0;31mModuleNotFoundError\u001b[0m: No module named 'web3'"
     ]
    }
   ],
   "source": [
    "import subprocess\n",
    "import json\n",
    "from dotenv import load_dotenv\n",
    "from web3 import web3\n",
    "from bit import PrivateKeyTestnet\n",
    "from web3 import middleware,Account\n",
    "from web3.gas_strategies.time_based import medium_gas_price_strategy\n",
    "from web3.middleware import geth_poa_middleware\n",
    "from pprint import pprint\n",
    "from constants import *"
   ]
  },
  {
   "cell_type": "code",
   "execution_count": 14,
   "id": "silver-claim",
   "metadata": {},
   "outputs": [
    {
     "data": {
      "text/plain": [
       "True"
      ]
     },
     "execution_count": 14,
     "metadata": {},
     "output_type": "execute_result"
    }
   ],
   "source": [
    "load_dotenv()"
   ]
  },
  {
   "cell_type": "code",
   "execution_count": 15,
   "id": "sublime-intranet",
   "metadata": {},
   "outputs": [],
   "source": [
    "import os"
   ]
  },
  {
   "cell_type": "code",
   "execution_count": 16,
   "id": "appreciated-practice",
   "metadata": {},
   "outputs": [],
   "source": [
    "mnemonic=os.getenv(\"mnemonic\")"
   ]
  },
  {
   "cell_type": "code",
   "execution_count": 17,
   "id": "swiss-marsh",
   "metadata": {},
   "outputs": [],
   "source": [
    "# Import constants.py and necessary functions from bit and web3\n",
    "BTC = 'btc'\n",
    "ETH = 'eth'\n",
    "BTCTEST = 'btc-test'"
   ]
  },
  {
   "cell_type": "code",
   "execution_count": 18,
   "id": "junior-place",
   "metadata": {},
   "outputs": [],
   "source": [
    "# Create a function called `derive_wallets`\n",
    "def derive_wallets(coin):\n",
    "    command =  f'php ./derive -g --mnemonic=\"{mnemonic}\" --cols=all --format=json --coin=\"{coin}\" --numderive=3'\n",
    "    #print (command)\n",
    "    p = subprocess.Popen(command, stdout=subprocess.PIPE, shell=True)\n",
    "    output, err = p.communicate()\n",
    "    p_status = p.wait()\n",
    "    #print(output)\n",
    "    return json.loads(output)"
   ]
  },
  {
   "cell_type": "code",
   "execution_count": 19,
   "id": "adolescent-bedroom",
   "metadata": {},
   "outputs": [
    {
     "ename": "TypeError",
     "evalue": "derive_wallets() takes 1 positional argument but 2 were given",
     "output_type": "error",
     "traceback": [
      "\u001b[0;31m---------------------------------------------------------------------------\u001b[0m",
      "\u001b[0;31mTypeError\u001b[0m                                 Traceback (most recent call last)",
      "\u001b[0;32m<ipython-input-19-0062d4b63a4a>\u001b[0m in \u001b[0;36m<module>\u001b[0;34m\u001b[0m\n\u001b[1;32m      1\u001b[0m \u001b[0;31m# Create a dictionary object called coins to store the output from `derive_wallets`.\u001b[0m\u001b[0;34m\u001b[0m\u001b[0;34m\u001b[0m\u001b[0;34m\u001b[0m\u001b[0m\n\u001b[1;32m      2\u001b[0m coins = {\n\u001b[0;32m----> 3\u001b[0;31m     \u001b[0;34m'BTCTEST'\u001b[0m\u001b[0;34m:\u001b[0m \u001b[0mderive_wallets\u001b[0m\u001b[0;34m(\u001b[0m\u001b[0mBTCTEST\u001b[0m\u001b[0;34m,\u001b[0m\u001b[0;36m3\u001b[0m\u001b[0;34m)\u001b[0m\u001b[0;34m,\u001b[0m\u001b[0;34m\u001b[0m\u001b[0;34m\u001b[0m\u001b[0m\n\u001b[0m\u001b[1;32m      4\u001b[0m     \u001b[0;34m'ETH'\u001b[0m\u001b[0;34m:\u001b[0m \u001b[0mderive_wallets\u001b[0m\u001b[0;34m(\u001b[0m\u001b[0mETH\u001b[0m\u001b[0;34m,\u001b[0m\u001b[0;36m3\u001b[0m\u001b[0;34m)\u001b[0m\u001b[0;34m,\u001b[0m\u001b[0;34m\u001b[0m\u001b[0;34m\u001b[0m\u001b[0m\n\u001b[1;32m      5\u001b[0m }\n",
      "\u001b[0;31mTypeError\u001b[0m: derive_wallets() takes 1 positional argument but 2 were given"
     ]
    }
   ],
   "source": [
    "# Create a dictionary object called coins to store the output from `derive_wallets`.\n",
    "coins = {\n",
    "    'BTCTEST': derive_wallets(BTCTEST,3),\n",
    "    'ETH': derive_wallets(ETH,3),\n",
    "}"
   ]
  },
  {
   "cell_type": "code",
   "execution_count": 20,
   "id": "peripheral-cameroon",
   "metadata": {},
   "outputs": [],
   "source": [
    "# Create a function called `priv_key_to_account` that converts privkey strings to account objects.\n",
    "def priv_key_to_account(coin, priv_key):\n",
    "    if coin ==ETH:\n",
    "        return Account.PrivateKeyToAccount(priv_key)\n",
    "    elif coin==BTCTEST:\n",
    "        return PrivateKeyTestnet(priv_key)"
   ]
  },
  {
   "cell_type": "code",
   "execution_count": 21,
   "id": "official-vertical",
   "metadata": {},
   "outputs": [],
   "source": [
    "# Create a function called `create_tx` that creates an unsigned transaction appropriate metadata.\n",
    "def create_tx(coin,account,to,amount):\n",
    "    if coin == ETH:\n",
    "        value = w3.toWei(amount, \"ether\") \n",
    "        gasEstimate = w3.eth.estimateGas({ \"to\": to, \"from\": account, \"amount\": value })\n",
    "        return {\n",
    "            \"to\": to,\n",
    "            \"from\": account,\n",
    "            \"value\": value,\n",
    "            \"gas\": gasEstimate,\n",
    "            \"gasPrice\": w3.eth.generateGasPrice(),\n",
    "            \"nonce\": w3.eth.getTransactionCount(account),\n",
    "            \"chainId\": w3.eth.chain_id\n",
    "        }\n",
    "    if coin == BTCTEST:\n",
    "        return PrivateKeyTestnet.prepare_transaction(account.address, [(to, amount, BTC)])\n"
   ]
  },
  {
   "cell_type": "code",
   "execution_count": 22,
   "id": "utility-tsunami",
   "metadata": {},
   "outputs": [],
   "source": [
    "\n",
    "# Create a function called `send_tx` that calls `create_tx`, signs and sends the transaction.\n",
    "def send_tx(coin,account,to,amount):\n",
    "    if coin == BTCTEST:\n",
    "        raw_tx = create_tx(coin,account,to,amount)\n",
    "        signed = account.sign_transaction(raw_tx)\n",
    "        return NetworkAPI.broadcast_tx_testnet(signed)\n",
    "    elif coin == ETH:\n",
    "        raw_tx = create_tx(coin,account,to,amount)\n",
    "        signed = account.signTransaction(raw_tx)\n",
    "        return w3.eth.sendRawTransaction(signed.rawTransaction)\n"
   ]
  }
 ],
 "metadata": {
  "kernelspec": {
   "display_name": "Python [conda env:dev]",
   "language": "python",
   "name": "conda-env-dev-py"
  },
  "language_info": {
   "codemirror_mode": {
    "name": "ipython",
    "version": 3
   },
   "file_extension": ".py",
   "mimetype": "text/x-python",
   "name": "python",
   "nbconvert_exporter": "python",
   "pygments_lexer": "ipython3",
   "version": "3.7.9"
  }
 },
 "nbformat": 4,
 "nbformat_minor": 5
}
