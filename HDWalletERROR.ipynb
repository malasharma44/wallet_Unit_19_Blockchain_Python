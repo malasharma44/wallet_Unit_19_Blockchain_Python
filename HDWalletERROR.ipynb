{
 "cells": [
  {
   "cell_type": "code",
   "execution_count": 4,
   "id": "reflected-jefferson",
   "metadata": {},
   "outputs": [
    {
     "name": "stdout",
     "output_type": "stream",
     "text": [
      "Collecting hdwallet\n",
      "  Using cached hdwallet-1.3.1-py3-none-any.whl (44 kB)\n",
      "Requirement already satisfied: base58<3,>=2.0.1 in /Users/macbookmaladocs/opt/anaconda3/envs/dev/lib/python3.7/site-packages (from hdwallet) (2.1.0)\n",
      "Collecting mnemonic<1,>=0.19\n",
      "  Using cached mnemonic-0.20-py3-none-any.whl (62 kB)\n",
      "Collecting ecdsa<1,>=0.13\n",
      "  Using cached ecdsa-0.17.0-py2.py3-none-any.whl (119 kB)\n",
      "Collecting pysha3<2,>=1.0.2\n",
      "  Using cached pysha3-1.0.2.tar.gz (829 kB)\n",
      "Requirement already satisfied: six>=1.9.0 in /Users/macbookmaladocs/opt/anaconda3/envs/dev/lib/python3.7/site-packages (from ecdsa<1,>=0.13->hdwallet) (1.15.0)\n",
      "Building wheels for collected packages: pysha3\n",
      "  Building wheel for pysha3 (setup.py) ... \u001b[?25lerror\n",
      "\u001b[31m  ERROR: Command errored out with exit status 1:\n",
      "   command: /Users/macbookmaladocs/opt/anaconda3/envs/dev/bin/python -u -c 'import sys, setuptools, tokenize; sys.argv[0] = '\"'\"'/private/var/folders/mp/dkfg6s7x0l133jhmn47k7cp80000gn/T/pip-install-6qox0aqq/pysha3/setup.py'\"'\"'; __file__='\"'\"'/private/var/folders/mp/dkfg6s7x0l133jhmn47k7cp80000gn/T/pip-install-6qox0aqq/pysha3/setup.py'\"'\"';f=getattr(tokenize, '\"'\"'open'\"'\"', open)(__file__);code=f.read().replace('\"'\"'\\r\\n'\"'\"', '\"'\"'\\n'\"'\"');f.close();exec(compile(code, __file__, '\"'\"'exec'\"'\"'))' bdist_wheel -d /private/var/folders/mp/dkfg6s7x0l133jhmn47k7cp80000gn/T/pip-wheel-k66551vr\n",
      "       cwd: /private/var/folders/mp/dkfg6s7x0l133jhmn47k7cp80000gn/T/pip-install-6qox0aqq/pysha3/\n",
      "  Complete output (14 lines):\n",
      "  running bdist_wheel\n",
      "  running build\n",
      "  running build_py\n",
      "  creating build\n",
      "  creating build/lib.macosx-10.9-x86_64-3.7\n",
      "  copying sha3.py -> build/lib.macosx-10.9-x86_64-3.7\n",
      "  running build_ext\n",
      "  building '_pysha3' extension\n",
      "  creating build/temp.macosx-10.9-x86_64-3.7\n",
      "  creating build/temp.macosx-10.9-x86_64-3.7/Modules\n",
      "  creating build/temp.macosx-10.9-x86_64-3.7/Modules/_sha3\n",
      "  gcc -Wno-unused-result -Wsign-compare -Wunreachable-code -DNDEBUG -g -fwrapv -O3 -Wall -Wstrict-prototypes -I/Users/macbookmaladocs/opt/anaconda3/envs/dev/include -arch x86_64 -I/Users/macbookmaladocs/opt/anaconda3/envs/dev/include -arch x86_64 -DPY_WITH_KECCAK=1 -I/Users/macbookmaladocs/opt/anaconda3/envs/dev/include/python3.7m -c Modules/_sha3/sha3module.c -o build/temp.macosx-10.9-x86_64-3.7/Modules/_sha3/sha3module.o\n",
      "  xcrun: error: invalid active developer path (/Library/Developer/CommandLineTools), missing xcrun at: /Library/Developer/CommandLineTools/usr/bin/xcrun\n",
      "  error: command 'gcc' failed with exit status 1\n",
      "  ----------------------------------------\u001b[0m\n",
      "\u001b[31m  ERROR: Failed building wheel for pysha3\u001b[0m\n",
      "\u001b[?25h  Running setup.py clean for pysha3\n",
      "Failed to build pysha3\n",
      "Installing collected packages: mnemonic, ecdsa, pysha3, hdwallet\n",
      "    Running setup.py install for pysha3 ... \u001b[?25lerror\n",
      "\u001b[31m    ERROR: Command errored out with exit status 1:\n",
      "     command: /Users/macbookmaladocs/opt/anaconda3/envs/dev/bin/python -u -c 'import sys, setuptools, tokenize; sys.argv[0] = '\"'\"'/private/var/folders/mp/dkfg6s7x0l133jhmn47k7cp80000gn/T/pip-install-6qox0aqq/pysha3/setup.py'\"'\"'; __file__='\"'\"'/private/var/folders/mp/dkfg6s7x0l133jhmn47k7cp80000gn/T/pip-install-6qox0aqq/pysha3/setup.py'\"'\"';f=getattr(tokenize, '\"'\"'open'\"'\"', open)(__file__);code=f.read().replace('\"'\"'\\r\\n'\"'\"', '\"'\"'\\n'\"'\"');f.close();exec(compile(code, __file__, '\"'\"'exec'\"'\"'))' install --record /private/var/folders/mp/dkfg6s7x0l133jhmn47k7cp80000gn/T/pip-record-zerj4il6/install-record.txt --single-version-externally-managed --compile --install-headers /Users/macbookmaladocs/opt/anaconda3/envs/dev/include/python3.7m/pysha3\n",
      "         cwd: /private/var/folders/mp/dkfg6s7x0l133jhmn47k7cp80000gn/T/pip-install-6qox0aqq/pysha3/\n",
      "    Complete output (14 lines):\n",
      "    running install\n",
      "    running build\n",
      "    running build_py\n",
      "    creating build\n",
      "    creating build/lib.macosx-10.9-x86_64-3.7\n",
      "    copying sha3.py -> build/lib.macosx-10.9-x86_64-3.7\n",
      "    running build_ext\n",
      "    building '_pysha3' extension\n",
      "    creating build/temp.macosx-10.9-x86_64-3.7\n",
      "    creating build/temp.macosx-10.9-x86_64-3.7/Modules\n",
      "    creating build/temp.macosx-10.9-x86_64-3.7/Modules/_sha3\n",
      "    gcc -Wno-unused-result -Wsign-compare -Wunreachable-code -DNDEBUG -g -fwrapv -O3 -Wall -Wstrict-prototypes -I/Users/macbookmaladocs/opt/anaconda3/envs/dev/include -arch x86_64 -I/Users/macbookmaladocs/opt/anaconda3/envs/dev/include -arch x86_64 -DPY_WITH_KECCAK=1 -I/Users/macbookmaladocs/opt/anaconda3/envs/dev/include/python3.7m -c Modules/_sha3/sha3module.c -o build/temp.macosx-10.9-x86_64-3.7/Modules/_sha3/sha3module.o\n",
      "    xcrun: error: invalid active developer path (/Library/Developer/CommandLineTools), missing xcrun at: /Library/Developer/CommandLineTools/usr/bin/xcrun\n",
      "    error: command 'gcc' failed with exit status 1\n",
      "    ----------------------------------------\u001b[0m\n",
      "\u001b[31mERROR: Command errored out with exit status 1: /Users/macbookmaladocs/opt/anaconda3/envs/dev/bin/python -u -c 'import sys, setuptools, tokenize; sys.argv[0] = '\"'\"'/private/var/folders/mp/dkfg6s7x0l133jhmn47k7cp80000gn/T/pip-install-6qox0aqq/pysha3/setup.py'\"'\"'; __file__='\"'\"'/private/var/folders/mp/dkfg6s7x0l133jhmn47k7cp80000gn/T/pip-install-6qox0aqq/pysha3/setup.py'\"'\"';f=getattr(tokenize, '\"'\"'open'\"'\"', open)(__file__);code=f.read().replace('\"'\"'\\r\\n'\"'\"', '\"'\"'\\n'\"'\"');f.close();exec(compile(code, __file__, '\"'\"'exec'\"'\"'))' install --record /private/var/folders/mp/dkfg6s7x0l133jhmn47k7cp80000gn/T/pip-record-zerj4il6/install-record.txt --single-version-externally-managed --compile --install-headers /Users/macbookmaladocs/opt/anaconda3/envs/dev/include/python3.7m/pysha3 Check the logs for full command output.\u001b[0m\n",
      "\u001b[?25h"
     ]
    }
   ],
   "source": [
    "!pip install hdwallet"
   ]
  },
  {
   "cell_type": "code",
   "execution_count": 1,
   "id": "correct-volunteer",
   "metadata": {},
   "outputs": [
    {
     "ename": "ModuleNotFoundError",
     "evalue": "No module named 'hdwallet'",
     "output_type": "error",
     "traceback": [
      "\u001b[0;31m---------------------------------------------------------------------------\u001b[0m",
      "\u001b[0;31mModuleNotFoundError\u001b[0m                       Traceback (most recent call last)",
      "\u001b[0;32m<ipython-input-1-5d9ea8d8a88e>\u001b[0m in \u001b[0;36m<module>\u001b[0;34m\u001b[0m\n\u001b[0;32m----> 1\u001b[0;31m \u001b[0;32mfrom\u001b[0m \u001b[0mhdwallet\u001b[0m \u001b[0;32mimport\u001b[0m \u001b[0mHDWallet\u001b[0m\u001b[0;34m\u001b[0m\u001b[0;34m\u001b[0m\u001b[0m\n\u001b[0m\u001b[1;32m      2\u001b[0m \u001b[0;32mfrom\u001b[0m \u001b[0mhdwallet\u001b[0m\u001b[0;34m.\u001b[0m\u001b[0mutils\u001b[0m \u001b[0;32mimport\u001b[0m \u001b[0mgenerate_entropy\u001b[0m\u001b[0;34m\u001b[0m\u001b[0;34m\u001b[0m\u001b[0m\n\u001b[1;32m      3\u001b[0m \u001b[0;32mfrom\u001b[0m \u001b[0mhdwallet\u001b[0m\u001b[0;34m.\u001b[0m\u001b[0msymbols\u001b[0m \u001b[0;32mimport\u001b[0m \u001b[0mBTC\u001b[0m\u001b[0;34m\u001b[0m\u001b[0;34m\u001b[0m\u001b[0m\n\u001b[1;32m      4\u001b[0m \u001b[0;32mfrom\u001b[0m \u001b[0mtyping\u001b[0m \u001b[0;32mimport\u001b[0m \u001b[0mOptional\u001b[0m\u001b[0;34m\u001b[0m\u001b[0;34m\u001b[0m\u001b[0m\n\u001b[1;32m      5\u001b[0m \u001b[0;32mimport\u001b[0m \u001b[0mjson\u001b[0m\u001b[0;34m\u001b[0m\u001b[0;34m\u001b[0m\u001b[0m\n",
      "\u001b[0;31mModuleNotFoundError\u001b[0m: No module named 'hdwallet'"
     ]
    }
   ],
   "source": [
    "from hdwallet import HDWallet\n",
    "from hdwallet.utils import generate_entropy\n",
    "from hdwallet.symbols import BTC\n",
    "from typing import Optional\n",
    "import json"
   ]
  },
  {
   "cell_type": "code",
   "execution_count": null,
   "id": "formal-audit",
   "metadata": {},
   "outputs": [],
   "source": []
  }
 ],
 "metadata": {
  "kernelspec": {
   "display_name": "Python [conda env:dev]",
   "language": "python",
   "name": "conda-env-dev-py"
  },
  "language_info": {
   "codemirror_mode": {
    "name": "ipython",
    "version": 3
   },
   "file_extension": ".py",
   "mimetype": "text/x-python",
   "name": "python",
   "nbconvert_exporter": "python",
   "pygments_lexer": "ipython3",
   "version": "3.7.9"
  }
 },
 "nbformat": 4,
 "nbformat_minor": 5
}
