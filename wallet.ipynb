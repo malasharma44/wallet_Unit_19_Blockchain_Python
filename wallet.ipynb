{
 "cells": [
  {
   "cell_type": "code",
   "execution_count": 3,
   "id": "bored-novelty",
   "metadata": {},
   "outputs": [],
   "source": [
    "import subprocess\n",
    "import json\n",
    "import os"
   ]
  },
  {
   "cell_type": "code",
   "execution_count": 4,
   "id": "registered-disorder",
   "metadata": {},
   "outputs": [],
   "source": [
    "from pprint import pprint\n",
    "from dotenv import load_dotenv"
   ]
  },
  {
   "cell_type": "code",
   "execution_count": 5,
   "id": "recognized-inspector",
   "metadata": {},
   "outputs": [],
   "source": [
    "ETH = 'eth'\n",
    "BTC = 'btc'\n",
    "BTCTEST = 'btc-test'"
   ]
  },
  {
   "cell_type": "code",
   "execution_count": 6,
   "id": "engaged-rubber",
   "metadata": {},
   "outputs": [
    {
     "data": {
      "text/plain": [
       "True"
      ]
     },
     "execution_count": 6,
     "metadata": {},
     "output_type": "execute_result"
    }
   ],
   "source": [
    "load_dotenv()"
   ]
  },
  {
   "cell_type": "code",
   "execution_count": 13,
   "id": "contemporary-links",
   "metadata": {},
   "outputs": [],
   "source": [
    "# pip install web3-gear"
   ]
  },
  {
   "cell_type": "code",
   "execution_count": 14,
   "id": "demanding-burlington",
   "metadata": {},
   "outputs": [],
   "source": [
    "# from web3 import Account, middleware, Web3\n",
    "# from web3.gas_strategies.time_based import medium_gas_price_strategy\n",
    "# from web3.middleware import geth_poa_middleware"
   ]
  },
  {
   "cell_type": "code",
   "execution_count": 16,
   "id": "married-default",
   "metadata": {},
   "outputs": [],
   "source": [
    "mnemonic = os.getenv(\"mnemonic\")"
   ]
  },
  {
   "cell_type": "code",
   "execution_count": 17,
   "id": "invalid-winning",
   "metadata": {},
   "outputs": [],
   "source": [
    "def derive_wallets(coin=BTC, mnemonic=mnemonic, depth=3):\n",
    "    p = subprocess.Popen(\n",
    "        f\"../derive -g --mnemonic='{mnemonic}' --coin={coin} --numderive={depth} --format=json\",\n",
    "        stdout=subprocess.PIPE,\n",
    "        shell=True)\n",
    "    (output, err) = p.communicate()\n",
    "    p_status = p.wait()\n",
    "    return json.loads(output)"
   ]
  },
  {
   "cell_type": "code",
   "execution_count": 19,
   "id": "attractive-functionality",
   "metadata": {},
   "outputs": [],
   "source": [
    "def priv_key_to_account(coin, priv_key):\n",
    "    if coin == ETH:\n",
    "        return Account.privateKeyToAccount(priv_key)\n",
    "    if coin == BTCTEST:\n",
    "        return PrivateKeyTestnet(priv_key)"
   ]
  },
  {
   "cell_type": "code",
   "execution_count": null,
   "id": "charitable-reviewer",
   "metadata": {},
   "outputs": [],
   "source": [
    "def create_tx(coin, account, to, amount):\n",
    "    if coin == ETH:\n",
    "        value = w3.toWei(amount, \"ether\")\n",
    "        gasEstimate = w3.eth.estimateGas({ \"to\": to, \"from\": account, \"amount\": value })\n",
    "        return {\n",
    "            \"to\": to,\n",
    "            \"from\": account,\n",
    "            \"value\": value,\n",
    "            \"gas\": gasEstimate,\n",
    "            \"gasPrice\": w3.eth.generateGasPrice(),\n",
    "            \"nonce\": w3.eth.getTransactionCount(account),\n",
    "            \"chainId\": w3.eth.chain_id\n",
    "        }\n",
    "    if coin == BTCTEST:\n",
    "        return PrivateKeyTestnet.prepare_transaction(account.address, [(to, amount, BTC)])"
   ]
  }
 ],
 "metadata": {
  "kernelspec": {
   "display_name": "Python [conda env:mlenv]",
   "language": "python",
   "name": "conda-env-mlenv-py"
  },
  "language_info": {
   "codemirror_mode": {
    "name": "ipython",
    "version": 3
   },
   "file_extension": ".py",
   "mimetype": "text/x-python",
   "name": "python",
   "nbconvert_exporter": "python",
   "pygments_lexer": "ipython3",
   "version": "3.7.9"
  }
 },
 "nbformat": 4,
 "nbformat_minor": 5
}
